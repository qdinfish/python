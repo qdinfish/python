{
 "cells": [
  {
   "cell_type": "code",
   "execution_count": null,
   "metadata": {
    "collapsed": true
   },
   "outputs": [],
   "source": [
    "import numpy as np\n",
    "import scipy.io as scio\n",
    "import sys\n",
    "sys.path.insert(0,'../../python/caffe')\n",
    "import caffe\n",
    "caffe.set_mode_gpu()\n",
    "import lmdb\n",
    "train_data=scio.loadmat('train.mat')\n",
    "train_label=scio.loadmat('train_label.mat')\n",
    "val_data=scio.loadmat('val.mat')\n",
    "val_label=scio.loadmat('val_label.mat')\n",
    "train_data=train_data['traindata']\n",
    "train_label=train_label['train_label']\n",
    "val_data=val_data['valdata']\n",
    "val_label=val_label['val_label']\n",
    "stack_train_label=np.hstack((train_data,train_label))\n",
    "stack_val_label=np.hstack((val_data,val_label))\n",
    "np.random.shuffle(stack_train_label)\n",
    "np.random.shuffle(stack_val_label)\n",
    "train_data=stack_train_label[:,:-1]\n",
    "train_label=stack_train_label[:,-1]\n",
    "val_data=stack_val_label[:,:-1]\n",
    "val_label=stack_val_label[:,-1]\n",
    "def dataToLmdb(lmdbname,traindata,labels=None):\n",
    "    env=lmdb.open(lmdbname,map_size=traindata.nbytes*2)\n",
    "    for i in range(len(traindata)):\n",
    "        datum=caffe.proto.caffe_pb2.Datum()\n",
    "        datum.channels=1\n",
    "        datum.height=1\n",
    "        datum.width=1\n",
    "        if traindata.dtype == np.int:\n",
    "            datum.data = traindata[i].tostring()\n",
    "        elif traindata.dtype == np.float: \n",
    "            datum.float_data.extend(traindata[i].flat)\n",
    "        else:\n",
    "            raise Exception(\"features.dtype unknown.\")\n",
    "        if labels is not None:\n",
    "            datum.label=int(labeldata[i])\n",
    "        str_id = '{:08}'.format(i)\n",
    "        with env.begin(write=True) as txn:\n",
    "            txn.put(str_id, datum.SerializeToString())\n",
    "dataToLmdb('train-lmdb',train_data,train_label)\n",
    "dataToLmdb('val-lmdb',val_data,val_label)"
   ]
  },
  {
   "cell_type": "code",
   "execution_count": null,
   "metadata": {
    "collapsed": true
   },
   "outputs": [],
   "source": []
  }
 ],
 "metadata": {
  "kernelspec": {
   "display_name": "Python 3",
   "language": "python",
   "name": "python3"
  },
  "language_info": {
   "codemirror_mode": {
    "name": "ipython",
    "version": 3
   },
   "file_extension": ".py",
   "mimetype": "text/x-python",
   "name": "python",
   "nbconvert_exporter": "python",
   "pygments_lexer": "ipython3",
   "version": "3.6.3"
  }
 },
 "nbformat": 4,
 "nbformat_minor": 2
}
